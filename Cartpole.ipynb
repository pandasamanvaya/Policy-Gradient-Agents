{
 "cells": [
  {
   "cell_type": "markdown",
   "metadata": {
    "id": "6AQeiAwWVGio"
   },
   "source": [
    "# **CartPole-v0**"
   ]
  },
  {
   "cell_type": "markdown",
   "metadata": {
    "id": "IXFj00JB1M5J"
   },
   "source": [
    "**Video link for explaination(Please use Chrome)** :- https://iiitaphyd-my.sharepoint.com/:v:/g/personal/samanvaya_panda_research_iiit_ac_in/EQRiNIfc_PVJmLSjA6dccs0B2C-zuexdSdYnY8jjC2L3bg?e=wj49zu"
   ]
  },
  {
   "cell_type": "markdown",
   "metadata": {
    "id": "LhGqVlXlyvRb"
   },
   "source": [
    "This notebook consists of implementations of various agents for Cartpole enviroment of OpenAi Gym. Cartpole enviroment has an discrete action space(0 or 1). The Agent gains a reward of +1 if it was able to balance the pole else it recieves a reward of 0.\n"
   ]
  },
  {
   "cell_type": "code",
   "execution_count": null,
   "metadata": {
    "id": "g7vnEVbJ9LKe"
   },
   "outputs": [],
   "source": [
    "import gym\n",
    "import numpy as np\n",
    "import tensorflow as tf\n",
    "from tensorflow.keras import Sequential, layers\n",
    "from matplotlib import pyplot as plt"
   ]
  },
  {
   "cell_type": "markdown",
   "metadata": {
    "id": "WpzRNVAKy4fY"
   },
   "source": [
    "**Creating Cartpole enviroment**"
   ]
  },
  {
   "cell_type": "code",
   "execution_count": null,
   "metadata": {
    "id": "CGHOwp_D9nGm"
   },
   "outputs": [],
   "source": [
    "ENV=\"CartPole-v0\"\n",
    "episodes=500\n",
    "\n",
    "env=gym.make(ENV) "
   ]
  },
  {
   "cell_type": "markdown",
   "metadata": {
    "id": "ay2biy01y-IV"
   },
   "source": [
    "## **Vanilla Policy gradient Agent**\n",
    "\n",
    "A vanilla policy gradient agent perform default policy gradient updates to learn a policy."
   ]
  },
  {
   "cell_type": "code",
   "execution_count": null,
   "metadata": {
    "id": "EIuHFbVO-ME6"
   },
   "outputs": [],
   "source": [
    "class VanillaPolicyAgent:\n",
    "  def __init__(self, env):\n",
    "\n",
    "    self.env=env\n",
    "    self.state_shape=env.observation_space.shape \n",
    "    self.action_shape=env.action_space.n \n",
    "    self.gamma=0.99 \n",
    "    self.alpha=1e-4 \n",
    "    self.learning_rate=0.01 \n",
    "    \n",
    "    self.model=self.create_model() \n",
    "    \n",
    "    self.states=[]\n",
    "    self.gradients=[] \n",
    "    self.rewards=[]\n",
    "    self.probs=[]\n",
    "    self.policy_var=[]\n",
    "    self.total_rewards=[]\n",
    "  \n",
    "  def create_model(self):\n",
    "\n",
    "    model=Sequential()\n",
    "    model.add(layers.Dense(24, input_shape=self.state_shape, activation=\"relu\"))\n",
    "    model.add(layers.Dense(12, activation=\"relu\"))\n",
    "    model.add(layers.Dense(self.action_shape, activation=\"softmax\")) \n",
    "    model.compile(loss=\"categorical_crossentropy\",\n",
    "            optimizer=tf.keras.optimizers.Adam(lr=self.learning_rate))\n",
    "        \n",
    "    return model\n",
    "  \n",
    "  def set_parametes(self, state, action, action_prob, reward):\n",
    "\n",
    "    encoded_action=np.zeros(self.action_shape)\n",
    "    encoded_action[action] = 1\n",
    "    self.gradients.append(encoded_action-action_prob)\n",
    "    self.states.append(state)\n",
    "    self.rewards.append(reward)\n",
    "    self.probs.append(action_prob)\n",
    "\n",
    "  def get_action(self, state):\n",
    "\n",
    "    state=state.reshape([1, state.shape[0]])\n",
    "    action_probability_distribution=self.model.predict(state).flatten()\n",
    "    action=np.random.choice(self.action_shape,1,\n",
    "                            p=action_probability_distribution)[0]\n",
    "\n",
    "    return action, action_probability_distribution\n",
    "\n",
    "  def get_discounted_rewards(self, rewards): \n",
    "    \n",
    "    discounted_rewards=[]\n",
    "    cumulative_total_return=0\n",
    "    for reward in rewards[::-1]:      \n",
    "      cumulative_total_return=(cumulative_total_return*self.gamma)+reward\n",
    "      discounted_rewards.insert(0, cumulative_total_return)\n",
    "\n",
    "    mean_rewards=np.mean(discounted_rewards)\n",
    "    std_rewards=np.std(discounted_rewards)\n",
    "    norm_discounted_rewards=(discounted_rewards-\n",
    "                          mean_rewards)/(std_rewards+1e-5)\n",
    "    \n",
    "    return norm_discounted_rewards\n",
    "  \n",
    "  def update_policy(self):\n",
    "\n",
    "    states = np.reshape(self.states, (len(self.states), len(self.states[0])))\n",
    "    gradients=np.reshape(self.gradients, (len(self.gradients), len(self.gradients[0])))\n",
    "    rewards=np.reshape(self.rewards, (len(self.rewards), 1))\n",
    "\n",
    "    discounted_rewards=self.get_discounted_rewards(rewards)\n",
    "    self.policy_var.append(np.var(discounted_rewards))\n",
    " \n",
    "    gradients*=discounted_rewards\n",
    "    gradients=self.alpha*np.vstack([gradients])+self.probs\n",
    "\n",
    "    self.model.train_on_batch(states, gradients)\n",
    "    self.states, self.probs, self.gradients, self.rewards=[], [], [], []\n",
    "\n",
    "  def train(self, episodes):\n",
    "    \n",
    "    env=self.env\n",
    "    total_rewards=np.zeros(episodes)\n",
    "\n",
    "    for episode in range(episodes):\n",
    "      state=env.reset()\n",
    "      done=False          \n",
    "      episode_reward=0 \n",
    "      \n",
    "      while not done:\n",
    "        action, prob=self.get_action(state)\n",
    "        next_state, reward, done, _=env.step(action)\n",
    "        self.set_parametes(state, action, prob, reward)\n",
    "        state=next_state\n",
    "        episode_reward+=reward\n",
    "\n",
    "        if done:\n",
    "          self.update_policy()\n",
    "\n",
    "      total_rewards[episode]=episode_reward\n",
    "      if episode%25 == 0:\n",
    "        print(\"For\", episode, \": Reward =\", episode_reward)\n",
    "    self.total_rewards=total_rewards\n",
    "\n",
    "  "
   ]
  },
  {
   "cell_type": "markdown",
   "metadata": {
    "id": "AwItAcE5RMhM"
   },
   "source": [
    "**Training our Agent**"
   ]
  },
  {
   "cell_type": "code",
   "execution_count": null,
   "metadata": {
    "colab": {
     "base_uri": "https://localhost:8080/"
    },
    "id": "x44W0Z6L-X62",
    "outputId": "7790d8e0-833e-4a3b-a7e7-12a7cf848a1e"
   },
   "outputs": [
    {
     "name": "stdout",
     "output_type": "stream",
     "text": [
      "For 0 : Reward = 14.0\n",
      "For 25 : Reward = 21.0\n",
      "For 50 : Reward = 57.0\n",
      "For 75 : Reward = 200.0\n",
      "For 100 : Reward = 200.0\n",
      "For 125 : Reward = 150.0\n",
      "For 150 : Reward = 200.0\n",
      "For 175 : Reward = 200.0\n",
      "For 200 : Reward = 200.0\n",
      "For 225 : Reward = 132.0\n",
      "For 250 : Reward = 67.0\n",
      "For 275 : Reward = 164.0\n",
      "For 300 : Reward = 200.0\n",
      "For 325 : Reward = 193.0\n",
      "For 350 : Reward = 183.0\n",
      "For 375 : Reward = 200.0\n",
      "For 400 : Reward = 200.0\n",
      "For 425 : Reward = 63.0\n",
      "For 450 : Reward = 200.0\n",
      "For 475 : Reward = 200.0\n"
     ]
    }
   ],
   "source": [
    "vanilla_agent = VanillaPolicyAgent(env)\n",
    "vanilla_agent.train(episodes)"
   ]
  },
  {
   "cell_type": "markdown",
   "metadata": {
    "id": "Pb_fAkknRoUs"
   },
   "source": [
    "**Plotting Results**\n",
    "\n",
    "The following plot shows rewards obtained in each episode by the agent."
   ]
  },
  {
   "cell_type": "code",
   "execution_count": null,
   "metadata": {
    "colab": {
     "base_uri": "https://localhost:8080/",
     "height": 295
    },
    "id": "MmAXcttuaI9T",
    "outputId": "e333c1f8-bc73-4ca6-f4b3-8a96a891a74b"
   },
   "outputs": [
    {
     "data": {
      "image/png": "[encoded data removed]",
      "text/plain": [
       "<Figure size 432x288 with 1 Axes>"
      ]
     },
     "metadata": {
      "tags": []
     },
     "output_type": "display_data"
    }
   ],
   "source": [
    "plt.plot(vanilla_agent.total_rewards)\n",
    "plt.title(\"Vanilla Policy gradient\")\n",
    "plt.xlabel(\"Episodes\")\n",
    "plt.ylabel(\"Reward\")\n",
    "plt.show()"
   ]
  },
  {
   "cell_type": "markdown",
   "metadata": {
    "id": "9acsxuWE-B3O"
   },
   "source": [
    "## **Policy Gradient with baselines**\n",
    "\n",
    "The policy gradient with baseline agent uses a predefined baseline function. A baseline function is used to reduce the variance in gradient computation. We use the value function approximation of an agent as the baseline function. Value function approximation is considered a good baseline function because it gives an future estimate of the state value."
   ]
  },
  {
   "cell_type": "code",
   "execution_count": null,
   "metadata": {
    "id": "8r7dTYQE-A99"
   },
   "outputs": [],
   "source": [
    "class BaselineAgent:\n",
    "  def __init__(self, env):\n",
    "\n",
    "    self.env=env\n",
    "    self.state_shape=env.observation_space.shape \n",
    "    self.action_shape=env.action_space.n \n",
    "    self.gamma=0.99 \n",
    "    self.alpha=1e-4 \n",
    "    self.learning_rate=0.01 \n",
    "    \n",
    "    self.model=self.create_model() \n",
    "    \n",
    "    self.states=[]\n",
    "    self.gradients=[] \n",
    "    self.rewards=[]\n",
    "    self.probs=[]\n",
    "    self.policy_var=[]\n",
    "    self.total_rewards=[]\n",
    "  \n",
    "  def create_model(self):\n",
    "\n",
    "    model=Sequential()\n",
    "    model.add(layers.Dense(24, input_shape=self.state_shape, activation=\"relu\"))\n",
    "    model.add(layers.Dense(12, activation=\"relu\"))\n",
    "    model.add(layers.Dense(self.action_shape, activation=\"softmax\")) \n",
    "    model.compile(loss=\"categorical_crossentropy\",\n",
    "            optimizer=tf.keras.optimizers.Adam(lr=self.learning_rate))\n",
    "        \n",
    "    return model\n",
    "  \n",
    "  def set_parametes(self, state, action, action_prob, reward):\n",
    "\n",
    "    encoded_action=np.zeros(self.action_shape)\n",
    "    encoded_action[action] = 1\n",
    "    self.gradients.append(encoded_action-action_prob)\n",
    "    self.states.append(state)\n",
    "    self.rewards.append(reward)\n",
    "    self.probs.append(action_prob)\n",
    "\n",
    "  def action_probability(self, state):\n",
    "    \n",
    "    action_probability_distribution=self.model.predict(state).flatten()\n",
    "    action_probability_distribution/=np.sum(action_probability_distribution)\n",
    "    return action_probability_distribution\n",
    "\n",
    "  def get_action(self, state):\n",
    "\n",
    "    state=state.reshape([1, state.shape[0]])\n",
    "    action_probability_distribution = self.action_probability(state)\n",
    "    action=np.random.choice(self.action_shape,1,\n",
    "                            p=action_probability_distribution)[0]\n",
    "\n",
    "    return action, action_probability_distribution\n",
    "\n",
    "  def get_discounted_rewards(self, rewards, states):\n",
    "    rewards = rewards[::-1] \n",
    "    discounted_rewards=[]\n",
    "    cumulative_total_return=0\n",
    "    action_probability_distribution = self.action_probability(states)\n",
    "    for i in range(len(rewards)):      \n",
    "      cumulative_total_return=(cumulative_total_return*self.gamma)+rewards[i]\n",
    "      #Baseline\n",
    "      cumulative_total_return*= (1-action_probability_distribution[i])\n",
    "      \n",
    "      discounted_rewards.insert(0, cumulative_total_return)\n",
    "\n",
    "\n",
    "    mean_rewards = np.mean(discounted_rewards)\n",
    "    std_rewards=np.std(discounted_rewards)\n",
    "    norm_discounted_rewards=(discounted_rewards-\n",
    "                          mean_rewards)/(std_rewards+1e-5)\n",
    "    \n",
    "    return norm_discounted_rewards \n",
    "\n",
    "  def update_policy(self, i):\n",
    "\n",
    "    states = np.vstack(self.states)\n",
    "    gradients = np.vstack(self.gradients)\n",
    "    rewards = np.vstack(self.rewards)\n",
    "\n",
    "    discounted_rewards=self.get_discounted_rewards(rewards, states)\n",
    "    self.policy_var.append(np.var(discounted_rewards))\n",
    "    gradients*=discounted_rewards\n",
    "    gradients=self.alpha*np.vstack([gradients])+self.probs\n",
    "    self.model.train_on_batch(states, gradients)\n",
    "\n",
    "    self.states, self.probs, self.gradients, self.rewards=[], [], [], []\n",
    "\n",
    "  def train(self, episodes):\n",
    "    \n",
    "    env=self.env\n",
    "    total_rewards=np.zeros(episodes)\n",
    "\n",
    "    for episode in range(episodes):\n",
    "      state=env.reset()\n",
    "      done=False          \n",
    "      episode_reward=0 \n",
    "      \n",
    "      while not done:\n",
    "        action, prob=self.get_action(state)\n",
    "        next_state, reward, done, _=env.step(action)\n",
    "        self.set_parametes(state, action, prob, reward)\n",
    "        state=next_state\n",
    "        episode_reward+=reward\n",
    "\n",
    "        if done:\n",
    "            self.update_policy(episode)\n",
    "\n",
    "      total_rewards[episode]=episode_reward\n",
    "      if episode%25 == 0:\n",
    "        print(\"For\", episode, \": Reward =\", episode_reward)\n",
    "    self.total_rewards=total_rewards\n",
    "\n",
    "  "
   ]
  },
  {
   "cell_type": "markdown",
   "metadata": {
    "id": "bL0AVBBTS8dv"
   },
   "source": [
    "**Training our agent**"
   ]
  },
  {
   "cell_type": "code",
   "execution_count": null,
   "metadata": {
    "colab": {
     "base_uri": "https://localhost:8080/"
    },
    "id": "lNAU9pTGAjiX",
    "outputId": "a5b77938-0cc3-4143-e6d7-3592e72e36e7"
   },
   "outputs": [
    {
     "name": "stdout",
     "output_type": "stream",
     "text": [
      "For 0 : Reward = 15.0\n",
      "For 25 : Reward = 20.0\n",
      "For 50 : Reward = 34.0\n",
      "For 75 : Reward = 93.0\n",
      "For 100 : Reward = 20.0\n",
      "For 125 : Reward = 81.0\n",
      "For 150 : Reward = 96.0\n",
      "For 175 : Reward = 86.0\n",
      "For 200 : Reward = 130.0\n",
      "For 225 : Reward = 123.0\n",
      "For 250 : Reward = 200.0\n",
      "For 275 : Reward = 200.0\n",
      "For 300 : Reward = 200.0\n",
      "For 325 : Reward = 200.0\n",
      "For 350 : Reward = 200.0\n",
      "For 375 : Reward = 200.0\n",
      "For 400 : Reward = 200.0\n",
      "For 425 : Reward = 200.0\n",
      "For 450 : Reward = 200.0\n",
      "For 475 : Reward = 200.0\n"
     ]
    }
   ],
   "source": [
    "baseline_agent = BaselineAgent(env)\n",
    "baseline_agent.train(episodes)"
   ]
  },
  {
   "cell_type": "markdown",
   "metadata": {
    "id": "rKG9tSDKTMqh"
   },
   "source": [
    "**Plotting Results**\n",
    "\n",
    "The following plot shows rewards obtained in each episode by the agent."
   ]
  },
  {
   "cell_type": "code",
   "execution_count": null,
   "metadata": {
    "colab": {
     "base_uri": "https://localhost:8080/",
     "height": 295
    },
    "id": "VpaEwfbQqOgb",
    "outputId": "74d1d2f0-ee50-4d9f-df98-7657e96705bb"
   },
   "outputs": [
    {
     "data": {
      "image/png": "[encoded data removed]",
      "text/plain": [
       "<Figure size 432x288 with 1 Axes>"
      ]
     },
     "metadata": {
      "tags": []
     },
     "output_type": "display_data"
    }
   ],
   "source": [
    "plt.plot(baseline_agent.total_rewards)\n",
    "plt.title(\"Policy Gradient with Baseline\")\n",
    "plt.xlabel(\"Episodes\")\n",
    "plt.ylabel(\"Reward\")\n",
    "plt.show()"
   ]
  },
  {
   "cell_type": "markdown",
   "metadata": {
    "id": "d3Kt-vlSTP1T"
   },
   "source": [
    "**Comparision between variance of Vanilla policy gradient and policy gradient with baseline**"
   ]
  },
  {
   "cell_type": "code",
   "execution_count": null,
   "metadata": {
    "colab": {
     "base_uri": "https://localhost:8080/",
     "height": 295
    },
    "id": "-fflfrh6f-e_",
    "outputId": "c65b9bf8-1dd5-4c23-9c9e-0ce43720acaa"
   },
   "outputs": [
    {
     "data": {
      "image/png": "[encoded data removed]",
      "text/plain": [
       "<Figure size 432x288 with 1 Axes>"
      ]
     },
     "metadata": {
      "tags": []
     },
     "output_type": "display_data"
    }
   ],
   "source": [
    "plt.plot(vanilla_agent.policy_var, label=\"Vanilla Policy Agent\")\n",
    "plt.plot(baseline_agent.policy_var, label=\"Baseline Agent\")\n",
    "plt.title(\"Comparision of variance\")\n",
    "plt.xlabel(\"Episodes\")\n",
    "plt.ylabel(\"Variance of Reward\")\n",
    "plt.legend()\n",
    "plt.show()"
   ]
  },
  {
   "cell_type": "markdown",
   "metadata": {
    "id": "d-CsQ8TXTecT"
   },
   "source": [
    "From the above plot we observe that policy gradient with baseline agent receives rewards that have less variance compared to a vanilla policy gradient agent. Hence, our baseline is able to reduce variance as it was expected to do so."
   ]
  },
  {
   "cell_type": "markdown",
   "metadata": {
    "id": "L4pZEUPZtTg5"
   },
   "source": [
    "## **Actor-Critic Method**\n",
    "\n",
    "The actor-critic method uses an additional network for function approximation compared to previous to methods. "
   ]
  },
  {
   "cell_type": "code",
   "execution_count": null,
   "metadata": {
    "id": "uRRpX5JftSGI"
   },
   "outputs": [],
   "source": [
    "class ActorCriticAgent:\n",
    "  def __init__(self, env):\n",
    "    self.env = env\n",
    "    self.num_states = env.observation_space.shape[0]\n",
    "    self.num_actions = env.action_space.n\n",
    "    self.gamma = 0.99\n",
    "    self.tau = 0.005\n",
    "\n",
    "    self.max_states = 100000\n",
    "    self.states = np.zeros((self.max_states, self.num_states))\n",
    "    self.actions = np.zeros((self.max_states, self.num_actions))\n",
    "    self.reward = np.zeros((self.max_states, 1))\n",
    "    self.next_state = np.zeros((self.max_states, self.num_states))\n",
    "    self.total_rewards = []\n",
    "    self.counter = 0\n",
    "\n",
    "    self.actor_model = self.create_actor_model()\n",
    "    self.target_actor = self.create_actor_model()\n",
    "    self.target_actor.set_weights(self.actor_model.get_weights())\n",
    "\n",
    "    self.critic_model = self.create_critic_model() \n",
    "    self.target_critic = self.create_critic_model() \n",
    "    self.target_critic.set_weights(self.critic_model.get_weights())\n",
    "    \n",
    "    self.actor_optimizer = tf.keras.optimizers.Adam(0.001)\n",
    "    self.critic_optimizer = tf.keras.optimizers.Adam(0.002)\n",
    "\n",
    "  def create_actor_model(self):\n",
    "\n",
    "      model=Sequential()\n",
    "      model.add(layers.Dense(256, input_shape=self.num_states, activation=\"relu\"))\n",
    "      model.add(layers.Dense(256, activation=\"relu\"))\n",
    "      model.add(layers.Dense(self.num_actions, activation=\"softmax\"))     \n",
    "      return model\n",
    "\n",
    "  def create_critic_model(self):\n",
    "      state_input = layers.Input(shape=(self.num_states))\n",
    "      state_out = layers.Dense(16, activation=\"relu\")(state_input)\n",
    "      state_out = layers.Dense(32, activation=\"relu\")(state_out)\n",
    "\n",
    "      action_input = layers.Input(shape=(self.num_actions))\n",
    "      action_out = layers.Dense(32, activation=\"relu\")(action_input)\n",
    "\n",
    "      concat = layers.Concatenate()([state_out, action_out])\n",
    "\n",
    "      out = layers.Dense(256, activation=\"relu\")(concat)\n",
    "      out = layers.Dense(256, activation=\"relu\")(out)\n",
    "      outputs = layers.Dense(self.num_actions, activation=\"softmax\")(out)\n",
    "\n",
    "      model = tf.keras.Model([state_input, action_input], outputs)\n",
    "\n",
    "      return model\n",
    "\n",
    "  def set_parameters(self, tuple):\n",
    "    i = self.counter % self.max_states\n",
    "    self.states[i] = tuple[0]\n",
    "    self.actions[i] = tuple[1]\n",
    "    self.reward[i] = tuple[2]\n",
    "    self.next_state[i] = tuple[3]\n",
    "    self.counter += 1\n",
    "  \n",
    "  def update(self, state_batch, action_batch, reward_batch, next_state_batch):\n",
    "    #Critic Model\n",
    "    with tf.GradientTape() as tape:\n",
    "        target_actions = self.target_actor(next_state_batch, training=True)\n",
    "        y = reward_batch + self.gamma * self.target_critic(\n",
    "            [next_state_batch, target_actions], training=True\n",
    "        )\n",
    "        critic_value = self.critic_model([state_batch, action_batch], training=True)\n",
    "        critic_loss = tf.math.reduce_mean(tf.math.square(y - critic_value))\n",
    "\n",
    "    critic_grad = tape.gradient(critic_loss, self.critic_model.trainable_variables)\n",
    "    self.critic_optimizer.apply_gradients(\n",
    "        zip(critic_grad, self.critic_model.trainable_variables)\n",
    "    )\n",
    "\n",
    "    #Actor Model\n",
    "    with tf.GradientTape() as tape:\n",
    "        actions = self.actor_model(state_batch, training=True)\n",
    "        critic_value = self.critic_model([state_batch, actions], training=True)\n",
    "        actor_loss = -tf.math.reduce_mean(critic_value)\n",
    "\n",
    "    actor_grad = tape.gradient(actor_loss, self.actor_model.trainable_variables)\n",
    "    self.actor_optimizer.apply_gradients(\n",
    "        zip(actor_grad, self.actor_model.trainable_variables)\n",
    "    )\n",
    "\n",
    "  def normalize_reward(self, rewards):\n",
    "    \n",
    "    mean_rewards=np.mean(rewards)\n",
    "    std_rewards=np.std(rewards)\n",
    "    norm_discounted_rewards=(rewards-\n",
    "                          mean_rewards)/(std_rewards+1e-5)\n",
    "    \n",
    "    return norm_discounted_rewards\n",
    "\n",
    "  def learn(self):\n",
    "    record_range = min(self.counter, self.max_states)\n",
    "    batch_indices = np.random.choice(record_range, 32)\n",
    "\n",
    "    state_batch = self.states[batch_indices]\n",
    "    action_batch = self.actions[batch_indices]\n",
    "    reward_batch = self.normalize_reward(self.reward)[batch_indices]\n",
    "    # reward_batch = tf.cast(reward_batch, dtype=tf.float32)\n",
    "    next_state_batch = self.next_state[batch_indices]\n",
    "\n",
    "    self.update(state_batch, action_batch, reward_batch, next_state_batch)\n",
    "\n",
    "  def update_target(self, target_weights, weights, tau):\n",
    "    for (a, b) in zip(target_weights, weights):\n",
    "        a.assign(b * tau + a * (1 - tau))\n",
    "\n",
    "  def action_probability(self, state):\n",
    "    action_probability_distribution=self.actor_model.predict(state).flatten()\n",
    "    action_probability_distribution/=np.sum(action_probability_distribution)\n",
    "    \n",
    "    return action_probability_distribution\n",
    "\n",
    "  def policy(self, state):\n",
    "    action_probability_distribution = self.action_probability(state)\n",
    "    action=np.random.choice(self.num_actions,1,\n",
    "                            p=action_probability_distribution)[0]\n",
    "    return action\n",
    "\n",
    "\n",
    "  def train_agent(self, episodes):\n",
    "    total_rewards = []\n",
    "    env = self.env\n",
    "    \n",
    "    for ep in range(episodes):\n",
    "\n",
    "      cur_state = env.reset()\n",
    "      episode_reward = 0\n",
    "      done = False\n",
    "      while not done:\n",
    "\n",
    "          prev_state = np.expand_dims(cur_state, 0)\n",
    "\n",
    "          action = self.policy(prev_state)\n",
    "          # Recieve state and reward from environment.\n",
    "          state, reward, done, info = env.step(action)\n",
    "\n",
    "          self.set_parameters((prev_state, action, reward, state))\n",
    "          episode_reward += reward\n",
    "\n",
    "          self.learn()\n",
    "          self.update_target(self.target_actor.variables, self.actor_model.variables, self.tau)\n",
    "          self.update_target(self.target_critic.variables, self.critic_model.variables, self.tau)\n",
    "\n",
    "          cur_state = state\n",
    "\n",
    "      total_rewards.append(episode_reward)\n",
    "      if ep%25 == 0:\n",
    "        print(\"Episode :\", ep, \"Reward =\", total_rewards[-1])\n",
    "    self.total_rewards = total_rewards\n"
   ]
  },
  {
   "cell_type": "markdown",
   "metadata": {
    "id": "pwEeMlULUlxk"
   },
   "source": [
    "**Training our Agent**"
   ]
  },
  {
   "cell_type": "code",
   "execution_count": null,
   "metadata": {
    "colab": {
     "base_uri": "https://localhost:8080/"
    },
    "id": "SGS9mw3FidjX",
    "outputId": "39b0d6e6-1d42-49e4-bb20-3157bf6bae24"
   },
   "outputs": [
    {
     "name": "stdout",
     "output_type": "stream",
     "text": [
      "Episode : 0 Reward = 14.0\n",
      "Episode : 25 Reward = 16.0\n",
      "Episode : 50 Reward = 20.0\n",
      "Episode : 75 Reward = 10.0\n",
      "Episode : 100 Reward = 23.0\n",
      "Episode : 125 Reward = 22.0\n",
      "Episode : 150 Reward = 21.0\n",
      "Episode : 175 Reward = 44.0\n",
      "Episode : 200 Reward = 20.0\n",
      "Episode : 225 Reward = 26.0\n",
      "Episode : 250 Reward = 23.0\n",
      "Episode : 275 Reward = 11.0\n",
      "Episode : 300 Reward = 60.0\n",
      "Episode : 325 Reward = 38.0\n",
      "Episode : 350 Reward = 13.0\n",
      "Episode : 375 Reward = 13.0\n",
      "Episode : 400 Reward = 20.0\n",
      "Episode : 425 Reward = 22.0\n",
      "Episode : 450 Reward = 28.0\n",
      "Episode : 475 Reward = 45.0\n",
      "Episode : 500 Reward = 33.0\n",
      "Episode : 525 Reward = 13.0\n",
      "Episode : 550 Reward = 11.0\n",
      "Episode : 575 Reward = 17.0\n",
      "Episode : 600 Reward = 16.0\n",
      "Episode : 625 Reward = 9.0\n",
      "Episode : 650 Reward = 29.0\n",
      "Episode : 675 Reward = 22.0\n",
      "Episode : 700 Reward = 28.0\n",
      "Episode : 725 Reward = 21.0\n",
      "Episode : 750 Reward = 14.0\n",
      "Episode : 775 Reward = 16.0\n",
      "Episode : 800 Reward = 25.0\n",
      "Episode : 825 Reward = 31.0\n",
      "Episode : 850 Reward = 14.0\n",
      "Episode : 875 Reward = 42.0\n",
      "Episode : 900 Reward = 18.0\n",
      "Episode : 925 Reward = 19.0\n",
      "Episode : 950 Reward = 30.0\n",
      "Episode : 975 Reward = 29.0\n",
      "Episode : 1000 Reward = 14.0\n",
      "Episode : 1025 Reward = 18.0\n",
      "Episode : 1050 Reward = 20.0\n",
      "Episode : 1075 Reward = 13.0\n",
      "Episode : 1100 Reward = 19.0\n",
      "Episode : 1125 Reward = 16.0\n",
      "Episode : 1150 Reward = 29.0\n",
      "Episode : 1175 Reward = 69.0\n",
      "Episode : 1200 Reward = 20.0\n",
      "Episode : 1225 Reward = 34.0\n",
      "Episode : 1250 Reward = 17.0\n",
      "Episode : 1275 Reward = 24.0\n",
      "Episode : 1300 Reward = 11.0\n",
      "Episode : 1325 Reward = 16.0\n",
      "Episode : 1350 Reward = 17.0\n",
      "Episode : 1375 Reward = 15.0\n",
      "Episode : 1400 Reward = 13.0\n",
      "Episode : 1425 Reward = 36.0\n",
      "Episode : 1450 Reward = 13.0\n",
      "Episode : 1475 Reward = 45.0\n",
      "Episode : 1500 Reward = 15.0\n",
      "Episode : 1525 Reward = 17.0\n",
      "Episode : 1550 Reward = 14.0\n",
      "Episode : 1575 Reward = 10.0\n",
      "Episode : 1600 Reward = 15.0\n",
      "Episode : 1625 Reward = 12.0\n",
      "Episode : 1650 Reward = 39.0\n",
      "Episode : 1675 Reward = 14.0\n",
      "Episode : 1700 Reward = 27.0\n",
      "Episode : 1725 Reward = 14.0\n",
      "Episode : 1750 Reward = 46.0\n",
      "Episode : 1775 Reward = 18.0\n",
      "Episode : 1800 Reward = 22.0\n",
      "Episode : 1825 Reward = 35.0\n",
      "Episode : 1850 Reward = 15.0\n",
      "Episode : 1875 Reward = 40.0\n",
      "Episode : 1900 Reward = 39.0\n",
      "Episode : 1925 Reward = 27.0\n",
      "Episode : 1950 Reward = 28.0\n",
      "Episode : 1975 Reward = 25.0\n"
     ]
    }
   ],
   "source": [
    "actor_critic_agent = ActorCriticAgent(env)\n",
    "actor_critic_agent.train_agent(2000)"
   ]
  },
  {
   "cell_type": "markdown",
   "metadata": {
    "id": "1pT0yEc6UzbI"
   },
   "source": [
    "**Plotting Results**\n",
    "\n",
    "The following plot shows rewards obtained in each episode by the agent."
   ]
  },
  {
   "cell_type": "code",
   "execution_count": null,
   "metadata": {
    "colab": {
     "base_uri": "https://localhost:8080/",
     "height": 295
    },
    "id": "qWB40mg0xipm",
    "outputId": "16273b62-de58-4d3d-9daa-f6918cf249b0"
   },
   "outputs": [
    {
     "data": {
      "image/png": "[encoded data removed]",
      "text/plain": [
       "<Figure size 432x288 with 1 Axes>"
      ]
     },
     "metadata": {
      "needs_background": "light",
      "tags": []
     },
     "output_type": "display_data"
    }
   ],
   "source": [
    "plt.plot(actor_critic_agent.total_rewards)\n",
    "plt.title(\"Actor-Critic Method\")\n",
    "plt.xlabel(\"Episodes\")\n",
    "plt.ylabel(\"Reward\")\n",
    "plt.show()"
   ]
  }
 ],
 "metadata": {
  "accelerator": "GPU",
  "colab": {
   "collapsed_sections": [],
   "name": "Cartpole.ipynb",
   "provenance": []
  },
  "kernelspec": {
   "display_name": "Python 3",
   "language": "python",
   "name": "python3"
  },
  "language_info": {
   "codemirror_mode": {
    "name": "ipython",
    "version": 3
   },
   "file_extension": ".py",
   "mimetype": "text/x-python",
   "name": "python",
   "nbconvert_exporter": "python",
   "pygments_lexer": "ipython3",
   "version": "3.8.5"
  }
 },
 "nbformat": 4,
 "nbformat_minor": 1
}
